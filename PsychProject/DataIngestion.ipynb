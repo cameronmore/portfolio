{
 "cells": [
  {
   "cell_type": "code",
   "execution_count": 1,
   "metadata": {},
   "outputs": [],
   "source": [
    "import rdflib"
   ]
  },
  {
   "cell_type": "code",
   "execution_count": 2,
   "metadata": {},
   "outputs": [],
   "source": [
    "#I want to iterate through my csv file and import the patients as instances of people, named by their patient id with all of the columns as object properties\n",
    "#For id (row) in csv\n",
    "#   for column in csv\n",
    "#       assert id object-property column value\n",
    "\n",
    "#Something like this"
   ]
  },
  {
   "cell_type": "code",
   "execution_count": null,
   "metadata": {},
   "outputs": [],
   "source": [
    "#Our template for individuals will look like this:\n",
    "'''\n",
    "g.add((id, rdf.type, owl.NamedIndividual))\n",
    "g.add((id, rdf.type, mfo.Person))\n",
    "g.add((id, cco.gender, [value]))\n",
    "g.add((id, psy.marital_status, [value]))\n",
    "g.add((id, psy.number_of_siblings, [value]))\n",
    "g.add((id, psy.parental_divorce, [value]))\n",
    "g.add((id, psy.age_at_oedipal_trauma, [value]))\n",
    "g.add((id, psy.dream_frequency, [value]))\n",
    "And so on\n",
    "'''"
   ]
  },
  {
   "cell_type": "code",
   "execution_count": null,
   "metadata": {},
   "outputs": [],
   "source": [
    "#We have to add our values as instances, not juse floating numbers. So our IRIs might be something like ...Psy/Patient01/Single and the same for level of neurosis"
   ]
  }
 ],
 "metadata": {
  "kernelspec": {
   "display_name": "Python 3",
   "language": "python",
   "name": "python3"
  },
  "language_info": {
   "codemirror_mode": {
    "name": "ipython",
    "version": 3
   },
   "file_extension": ".py",
   "mimetype": "text/x-python",
   "name": "python",
   "nbconvert_exporter": "python",
   "pygments_lexer": "ipython3",
   "version": "3.11.3"
  },
  "orig_nbformat": 4
 },
 "nbformat": 4,
 "nbformat_minor": 2
}
